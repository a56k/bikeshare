{
 "cells": [
  {
   "cell_type": "code",
   "execution_count": 2,
   "metadata": {},
   "outputs": [],
   "source": [
    "import pandas as pd"
   ]
  },
  {
   "cell_type": "code",
   "execution_count": 3,
   "metadata": {},
   "outputs": [],
   "source": [
    "# 1. Create a DataFrame for the 201908-citibike-tripdata data. \n",
    "citibike_data = pd.read_csv('citibike-tripdata.csv')"
   ]
  },
  {
   "cell_type": "code",
   "execution_count": 4,
   "metadata": {},
   "outputs": [
    {
     "output_type": "stream",
     "name": "stdout",
     "text": [
      "<class 'pandas.core.frame.DataFrame'>\nRangeIndex: 2344224 entries, 0 to 2344223\nData columns (total 15 columns):\n #   Column                   Dtype  \n---  ------                   -----  \n 0   tripduration             int64  \n 1   starttime                object \n 2   stoptime                 object \n 3   start station id         float64\n 4   start station name       object \n 5   start station latitude   float64\n 6   start station longitude  float64\n 7   end station id           float64\n 8   end station name         object \n 9   end station latitude     float64\n 10  end station longitude    float64\n 11  bikeid                   int64  \n 12  usertype                 object \n 13  birth year               int64  \n 14  gender                   int64  \ndtypes: float64(6), int64(4), object(5)\nmemory usage: 268.3+ MB\n"
     ]
    }
   ],
   "source": [
    "# 2. Check the datatypes of your columns. \n",
    "citibike_data.info()"
   ]
  },
  {
   "cell_type": "code",
   "execution_count": 5,
   "metadata": {},
   "outputs": [
    {
     "output_type": "execute_result",
     "data": {
      "text/plain": [
       "         tripduration                 starttime                  stoptime  \\\n",
       "1816511          1224  2019-08-24 21:34:35.2310  2019-08-24 21:55:00.0550   \n",
       "134289            916  2019-08-02 16:11:55.1870  2019-08-02 16:27:11.8660   \n",
       "1199187          3470  2019-08-16 13:55:56.8100  2019-08-16 14:53:47.4870   \n",
       "\n",
       "         start station id     start station name  start station latitude  \\\n",
       "1816511            3375.0        3 Ave & E 72 St               40.769943   \n",
       "134289              517.0  Pershing Square South               40.751581   \n",
       "1199187            3507.0    Park Ave & E 124 St               40.804555   \n",
       "\n",
       "         start station longitude  end station id     end station name  \\\n",
       "1816511               -73.960607          3137.0      5 Ave & E 73 St   \n",
       "134289                -73.977910           236.0  St Marks Pl & 2 Ave   \n",
       "1199187               -73.939686          3507.0  Park Ave & E 124 St   \n",
       "\n",
       "         end station latitude  end station longitude  bikeid    usertype  \\\n",
       "1816511             40.772828             -73.966853   31436  Subscriber   \n",
       "134289              40.728419             -73.987140   25702  Subscriber   \n",
       "1199187             40.804555             -73.939686   14833    Customer   \n",
       "\n",
       "         birth year  gender  \n",
       "1816511        2002       1  \n",
       "134289         1988       2  \n",
       "1199187        1969       0  "
      ],
      "text/html": "<div>\n<style scoped>\n    .dataframe tbody tr th:only-of-type {\n        vertical-align: middle;\n    }\n\n    .dataframe tbody tr th {\n        vertical-align: top;\n    }\n\n    .dataframe thead th {\n        text-align: right;\n    }\n</style>\n<table border=\"1\" class=\"dataframe\">\n  <thead>\n    <tr style=\"text-align: right;\">\n      <th></th>\n      <th>tripduration</th>\n      <th>starttime</th>\n      <th>stoptime</th>\n      <th>start station id</th>\n      <th>start station name</th>\n      <th>start station latitude</th>\n      <th>start station longitude</th>\n      <th>end station id</th>\n      <th>end station name</th>\n      <th>end station latitude</th>\n      <th>end station longitude</th>\n      <th>bikeid</th>\n      <th>usertype</th>\n      <th>birth year</th>\n      <th>gender</th>\n    </tr>\n  </thead>\n  <tbody>\n    <tr>\n      <th>1816511</th>\n      <td>1224</td>\n      <td>2019-08-24 21:34:35.2310</td>\n      <td>2019-08-24 21:55:00.0550</td>\n      <td>3375.0</td>\n      <td>3 Ave &amp; E 72 St</td>\n      <td>40.769943</td>\n      <td>-73.960607</td>\n      <td>3137.0</td>\n      <td>5 Ave &amp; E 73 St</td>\n      <td>40.772828</td>\n      <td>-73.966853</td>\n      <td>31436</td>\n      <td>Subscriber</td>\n      <td>2002</td>\n      <td>1</td>\n    </tr>\n    <tr>\n      <th>134289</th>\n      <td>916</td>\n      <td>2019-08-02 16:11:55.1870</td>\n      <td>2019-08-02 16:27:11.8660</td>\n      <td>517.0</td>\n      <td>Pershing Square South</td>\n      <td>40.751581</td>\n      <td>-73.977910</td>\n      <td>236.0</td>\n      <td>St Marks Pl &amp; 2 Ave</td>\n      <td>40.728419</td>\n      <td>-73.987140</td>\n      <td>25702</td>\n      <td>Subscriber</td>\n      <td>1988</td>\n      <td>2</td>\n    </tr>\n    <tr>\n      <th>1199187</th>\n      <td>3470</td>\n      <td>2019-08-16 13:55:56.8100</td>\n      <td>2019-08-16 14:53:47.4870</td>\n      <td>3507.0</td>\n      <td>Park Ave &amp; E 124 St</td>\n      <td>40.804555</td>\n      <td>-73.939686</td>\n      <td>3507.0</td>\n      <td>Park Ave &amp; E 124 St</td>\n      <td>40.804555</td>\n      <td>-73.939686</td>\n      <td>14833</td>\n      <td>Customer</td>\n      <td>1969</td>\n      <td>0</td>\n    </tr>\n  </tbody>\n</table>\n</div>"
     },
     "metadata": {},
     "execution_count": 5
    }
   ],
   "source": [
    "citibike_data.sample(3)"
   ]
  },
  {
   "cell_type": "code",
   "execution_count": 6,
   "metadata": {},
   "outputs": [
    {
     "output_type": "execute_result",
     "data": {
      "text/plain": [
       "0     393\n",
       "1     627\n",
       "2    1132\n",
       "3    1780\n",
       "4    1517\n",
       "Name: tripduration, dtype: int64"
      ]
     },
     "metadata": {},
     "execution_count": 6
    }
   ],
   "source": [
    "# 3. Convert the 'tripduration' column to datetime datatype.\n",
    "citibike_data.tripduration.head()"
   ]
  },
  {
   "cell_type": "code",
   "execution_count": 7,
   "metadata": {},
   "outputs": [],
   "source": [
    "# 3b. Convert The \"tripDuration\" column to datetime datatype\n",
    "citibike_data.tripduration = pd.to_datetime(citibike_data.tripduration, unit='m')"
   ]
  },
  {
   "cell_type": "code",
   "execution_count": 8,
   "metadata": {},
   "outputs": [
    {
     "output_type": "stream",
     "name": "stdout",
     "text": [
      "<class 'pandas.core.frame.DataFrame'>\nRangeIndex: 2344224 entries, 0 to 2344223\nData columns (total 15 columns):\n #   Column                   Dtype         \n---  ------                   -----         \n 0   tripduration             datetime64[ns]\n 1   starttime                object        \n 2   stoptime                 object        \n 3   start station id         float64       \n 4   start station name       object        \n 5   start station latitude   float64       \n 6   start station longitude  float64       \n 7   end station id           float64       \n 8   end station name         object        \n 9   end station latitude     float64       \n 10  end station longitude    float64       \n 11  bikeid                   int64         \n 12  usertype                 object        \n 13  birth year               int64         \n 14  gender                   int64         \ndtypes: datetime64[ns](1), float64(6), int64(3), object(5)\nmemory usage: 268.3+ MB\n"
     ]
    }
   ],
   "source": [
    "# 4. Check the datatypes of your columns. \n",
    "citibike_data.info()"
   ]
  },
  {
   "cell_type": "code",
   "execution_count": 9,
   "metadata": {},
   "outputs": [],
   "source": [
    "# 5. Export the Dataframe as a new CSV file without the index.\n",
    "citibike_data.to_csv('citibike_tripdata.csv', index=False)"
   ]
  },
  {
   "cell_type": "code",
   "execution_count": 10,
   "metadata": {},
   "outputs": [
    {
     "output_type": "execute_result",
     "data": {
      "text/plain": [
       "         tripduration                 starttime                  stoptime  \\\n",
       "0 1970-01-01 06:33:00  2019-08-01 00:00:01.4680  2019-08-01 00:06:35.3780   \n",
       "1 1970-01-01 10:27:00  2019-08-01 00:00:01.9290  2019-08-01 00:10:29.7840   \n",
       "2 1970-01-01 18:52:00  2019-08-01 00:00:04.0480  2019-08-01 00:18:56.1650   \n",
       "3 1970-01-02 05:40:00  2019-08-01 00:00:04.1630  2019-08-01 00:29:44.7940   \n",
       "4 1970-01-02 01:17:00  2019-08-01 00:00:05.4580  2019-08-01 00:25:23.4550   \n",
       "\n",
       "   start station id              start station name  start station latitude  \\\n",
       "0             531.0          Forsyth St & Broome St               40.718939   \n",
       "1             274.0  Lafayette Ave & Fort Greene Pl               40.686919   \n",
       "2            2000.0        Front St & Washington St               40.702551   \n",
       "3             479.0                 9 Ave & W 45 St               40.760193   \n",
       "4            3312.0                 1 Ave & E 94 St               40.781721   \n",
       "\n",
       "   start station longitude  end station id            end station name  \\\n",
       "0               -73.992663           408.0       Market St & Cherry St   \n",
       "1               -73.976682          3409.0        Bergen St & Smith St   \n",
       "2               -73.989402          3388.0     President St & Henry St   \n",
       "3               -73.991255           473.0  Rivington St & Chrystie St   \n",
       "4               -73.945940          3312.0             1 Ave & E 94 St   \n",
       "\n",
       "   end station latitude  end station longitude  bikeid    usertype  \\\n",
       "0             40.710762             -73.994004   35305  Subscriber   \n",
       "1             40.686744             -73.990632   38822  Subscriber   \n",
       "2             40.682800             -73.999904   18373  Subscriber   \n",
       "3             40.721101             -73.991925   25002  Subscriber   \n",
       "4             40.781721             -73.945940   31198  Subscriber   \n",
       "\n",
       "   birth year  gender  \n",
       "0        1996       2  \n",
       "1        1998       2  \n",
       "2        1988       1  \n",
       "3        1988       1  \n",
       "4        1965       2  "
      ],
      "text/html": "<div>\n<style scoped>\n    .dataframe tbody tr th:only-of-type {\n        vertical-align: middle;\n    }\n\n    .dataframe tbody tr th {\n        vertical-align: top;\n    }\n\n    .dataframe thead th {\n        text-align: right;\n    }\n</style>\n<table border=\"1\" class=\"dataframe\">\n  <thead>\n    <tr style=\"text-align: right;\">\n      <th></th>\n      <th>tripduration</th>\n      <th>starttime</th>\n      <th>stoptime</th>\n      <th>start station id</th>\n      <th>start station name</th>\n      <th>start station latitude</th>\n      <th>start station longitude</th>\n      <th>end station id</th>\n      <th>end station name</th>\n      <th>end station latitude</th>\n      <th>end station longitude</th>\n      <th>bikeid</th>\n      <th>usertype</th>\n      <th>birth year</th>\n      <th>gender</th>\n    </tr>\n  </thead>\n  <tbody>\n    <tr>\n      <th>0</th>\n      <td>1970-01-01 06:33:00</td>\n      <td>2019-08-01 00:00:01.4680</td>\n      <td>2019-08-01 00:06:35.3780</td>\n      <td>531.0</td>\n      <td>Forsyth St &amp; Broome St</td>\n      <td>40.718939</td>\n      <td>-73.992663</td>\n      <td>408.0</td>\n      <td>Market St &amp; Cherry St</td>\n      <td>40.710762</td>\n      <td>-73.994004</td>\n      <td>35305</td>\n      <td>Subscriber</td>\n      <td>1996</td>\n      <td>2</td>\n    </tr>\n    <tr>\n      <th>1</th>\n      <td>1970-01-01 10:27:00</td>\n      <td>2019-08-01 00:00:01.9290</td>\n      <td>2019-08-01 00:10:29.7840</td>\n      <td>274.0</td>\n      <td>Lafayette Ave &amp; Fort Greene Pl</td>\n      <td>40.686919</td>\n      <td>-73.976682</td>\n      <td>3409.0</td>\n      <td>Bergen St &amp; Smith St</td>\n      <td>40.686744</td>\n      <td>-73.990632</td>\n      <td>38822</td>\n      <td>Subscriber</td>\n      <td>1998</td>\n      <td>2</td>\n    </tr>\n    <tr>\n      <th>2</th>\n      <td>1970-01-01 18:52:00</td>\n      <td>2019-08-01 00:00:04.0480</td>\n      <td>2019-08-01 00:18:56.1650</td>\n      <td>2000.0</td>\n      <td>Front St &amp; Washington St</td>\n      <td>40.702551</td>\n      <td>-73.989402</td>\n      <td>3388.0</td>\n      <td>President St &amp; Henry St</td>\n      <td>40.682800</td>\n      <td>-73.999904</td>\n      <td>18373</td>\n      <td>Subscriber</td>\n      <td>1988</td>\n      <td>1</td>\n    </tr>\n    <tr>\n      <th>3</th>\n      <td>1970-01-02 05:40:00</td>\n      <td>2019-08-01 00:00:04.1630</td>\n      <td>2019-08-01 00:29:44.7940</td>\n      <td>479.0</td>\n      <td>9 Ave &amp; W 45 St</td>\n      <td>40.760193</td>\n      <td>-73.991255</td>\n      <td>473.0</td>\n      <td>Rivington St &amp; Chrystie St</td>\n      <td>40.721101</td>\n      <td>-73.991925</td>\n      <td>25002</td>\n      <td>Subscriber</td>\n      <td>1988</td>\n      <td>1</td>\n    </tr>\n    <tr>\n      <th>4</th>\n      <td>1970-01-02 01:17:00</td>\n      <td>2019-08-01 00:00:05.4580</td>\n      <td>2019-08-01 00:25:23.4550</td>\n      <td>3312.0</td>\n      <td>1 Ave &amp; E 94 St</td>\n      <td>40.781721</td>\n      <td>-73.945940</td>\n      <td>3312.0</td>\n      <td>1 Ave &amp; E 94 St</td>\n      <td>40.781721</td>\n      <td>-73.945940</td>\n      <td>31198</td>\n      <td>Subscriber</td>\n      <td>1965</td>\n      <td>2</td>\n    </tr>\n  </tbody>\n</table>\n</div>"
     },
     "metadata": {},
     "execution_count": 10
    }
   ],
   "source": [
    "citibike_data.head()\n"
   ]
  },
  {
   "cell_type": "code",
   "execution_count": null,
   "metadata": {},
   "outputs": [],
   "source": []
  }
 ],
 "metadata": {
  "kernelspec": {
   "display_name": "Python 3",
   "language": "python",
   "name": "python3"
  },
  "language_info": {
   "codemirror_mode": {
    "name": "ipython",
    "version": 3
   },
   "file_extension": ".py",
   "mimetype": "text/x-python",
   "name": "python",
   "nbconvert_exporter": "python",
   "pygments_lexer": "ipython3",
   "version": "3.7.9-final"
  }
 },
 "nbformat": 4,
 "nbformat_minor": 4
}